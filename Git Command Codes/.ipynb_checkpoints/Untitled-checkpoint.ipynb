{
 "cells": [
  {
   "cell_type": "markdown",
   "id": "6cd15f9e-0df7-42fc-97a5-533d9039333f",
   "metadata": {},
   "source": [
    "# Git Command Codes"
   ]
  },
  {
   "cell_type": "markdown",
   "id": "37918653-82a9-4fb0-aa2a-4557c9d82449",
   "metadata": {},
   "source": [
    "**1. Getting & Creating Projects**"
   ]
  },
  {
   "cell_type": "raw",
   "id": "7b143e59-6319-44c1-99e8-897f141ffb37",
   "metadata": {},
   "source": [
    "1-1. Initialize a local Git repository\n",
    "$ git init"
   ]
  },
  {
   "cell_type": "raw",
   "id": "7f4ec887-0aa9-4f08-83ea-fca73a006f30",
   "metadata": {},
   "source": [
    "1-2. Craete a local copy of a remote repository\n",
    "$ git clone (repository address)"
   ]
  },
  {
   "cell_type": "markdown",
   "id": "466822eb-afdf-4a4d-9d91-406905858ade",
   "metadata": {},
   "source": [
    "**2. Basic Snapshotting**"
   ]
  },
  {
   "cell_type": "raw",
   "id": "6bd803d2-f4d9-4244-aa2e-ddb29e6f3319",
   "metadata": {},
   "source": [
    "2-1. Check status\n",
    "$ git status"
   ]
  },
  {
   "cell_type": "raw",
   "id": "a0dd2ef9-e370-41cc-9ae0-249e1751ac42",
   "metadata": {},
   "source": [
    "2-2. Add a file to the staging area\n",
    "$ git add (file name.format)"
   ]
  },
  {
   "cell_type": "raw",
   "id": "544793b5-1552-4e44-aac3-6010464f5545",
   "metadata": {},
   "source": [
    "2-3. Add all new & changed files to the staging area\n",
    "$ git add -A"
   ]
  },
  {
   "cell_type": "raw",
   "id": "e24ee202-bb5e-42b7-b8fa-5e1b4b106baa",
   "metadata": {},
   "source": [
    "2-4. Commit changes\n",
    "$ git commit -m ('commit message')"
   ]
  },
  {
   "cell_type": "raw",
   "id": "db711afc-cbab-494c-97d0-00f3ed186311",
   "metadata": {},
   "source": [
    "2-5. Remove a file\n",
    "$ git rm (file name.format)"
   ]
  },
  {
   "cell_type": "raw",
   "id": "bcd82632-d7bd-4ee5-9efe-5c03359b1516",
   "metadata": {},
   "source": [
    "2-6. Remove a directory\n",
    "$ git rm -r (directory name)"
   ]
  },
  {
   "cell_type": "markdown",
   "id": "275c2666-94fd-4cd3-832b-728a7971e012",
   "metadata": {},
   "source": [
    "**3. Branching & Merging**"
   ]
  },
  {
   "cell_type": "raw",
   "id": "89a0f9b3-2f69-4fd3-9efa-825a114006c1",
   "metadata": {},
   "source": [
    "3-1.  List branches\n",
    "$ git branch"
   ]
  },
  {
   "cell_type": "raw",
   "id": "9eb82309-90ba-4190-a1f8-f281ce01630c",
   "metadata": {},
   "source": [
    "3-2. List all branches\n",
    "$ git brach -a"
   ]
  },
  {
   "cell_type": "raw",
   "id": "655bda50-3efe-4e63-ae96-e89aa61255b8",
   "metadata": {},
   "source": [
    "3-3. Create a new branch\n",
    "$ git branch (branch name)"
   ]
  },
  {
   "cell_type": "raw",
   "id": "341eb53a-202b-47d2-917e-1dd4070b0e60",
   "metadata": {},
   "source": [
    "3-4. Delete a branch\n",
    "$ git branch -d (branch name)"
   ]
  },
  {
   "cell_type": "raw",
   "id": "92ebb3fd-68de-4579-a834-dedc8e2a2343",
   "metadata": {},
   "source": [
    "3-5. Delete a remote branch\n",
    "$ git push origin --delete (branch name)"
   ]
  },
  {
   "cell_type": "raw",
   "id": "edb2091e-e76c-48d8-9c69-adf39ef17ed4",
   "metadata": {},
   "source": [
    "3-6. Create a new branch & switch to it\n",
    "$ git checkout -b (branch name)"
   ]
  },
  {
   "cell_type": "raw",
   "id": "601134cd-ee17-4b42-a165-d08a6240d084",
   "metadata": {},
   "source": [
    "3-7. Clone a remote branch & switch to it\n",
    "$ git checkout -b (branch name) origin/(branch name)"
   ]
  },
  {
   "cell_type": "raw",
   "id": "e4cc3dc2-812f-4a15-85f8-c5e5e53ab85d",
   "metadata": {},
   "source": [
    "3-8. Rename a local branch\n",
    "$ git branch -m (old branch name) (new branch name)"
   ]
  },
  {
   "cell_type": "raw",
   "id": "5023dbc4-857a-4a2c-81a2-9bc0f5632745",
   "metadata": {},
   "source": [
    "3-9. Switch to a branch\n",
    "$ git checkout (branch name)"
   ]
  },
  {
   "cell_type": "raw",
   "id": "9c2eab0d-1443-494c-8a60-adbcb30590d6",
   "metadata": {},
   "source": [
    "3-10. Switch to branch last checked out\n",
    "$ git checkout -"
   ]
  },
  {
   "cell_type": "raw",
   "id": "f02d6423-aef5-415a-ac02-e486c031bef7",
   "metadata": {},
   "source": [
    "3-11. Discard changes to a file\n",
    "$ git checkout -- (file name.format)"
   ]
  },
  {
   "cell_type": "raw",
   "id": "32c545b9-ef58-4da9-be52-40c619c4bbbd",
   "metadata": {},
   "source": [
    "3-12. Merge a branch into the active branch\n",
    "$ gie merge (branch name)"
   ]
  },
  {
   "cell_type": "raw",
   "id": "0a1150a5-fd6f-4b50-97d2-85d14d8914ed",
   "metadata": {},
   "source": [
    "3-13. Merge branch into a target branch\n",
    "$ git merge (source branch) (target branch)"
   ]
  },
  {
   "cell_type": "raw",
   "id": "dbfec672-6921-45c8-a5e7-d680799b18f0",
   "metadata": {},
   "source": [
    "3-14. Stash changes in a dirty working directory\n",
    "$ git stash"
   ]
  },
  {
   "cell_type": "raw",
   "id": "a0ac74b1-8caf-4616-882c-4afde6dcae59",
   "metadata": {},
   "source": [
    "3-15. Remove all stashed entries\n",
    "$ git stash clear"
   ]
  },
  {
   "cell_type": "markdown",
   "id": "4d22d066-d12c-4ae6-be4a-8cceedaa9b94",
   "metadata": {},
   "source": [
    "**4. Sharing & Updating Projects**"
   ]
  },
  {
   "cell_type": "raw",
   "id": "5a7b1ad5-b0cd-453e-8084-c433ebebfeb4",
   "metadata": {},
   "source": [
    "4-1. Push branch to your remote repository\n",
    "$ git push origin (branch name)"
   ]
  },
  {
   "cell_type": "raw",
   "id": "94b11bdc-ae29-49fb-8f8f-f2626c108b55",
   "metadata": {},
   "source": [
    "4-2. Push changes to rmote repository & remember the branch\n",
    "$ git push -u origin (branch name)"
   ]
  },
  {
   "cell_type": "raw",
   "id": "1019f7f6-fca3-49cb-b31a-378d7fcb0860",
   "metadata": {},
   "source": [
    "4-3. Push changes to remote repository & rememered branch\n",
    "$ git push"
   ]
  },
  {
   "cell_type": "raw",
   "id": "692b7ff9-f70e-49d2-9d92-736932fb40ad",
   "metadata": {},
   "source": [
    "4-4. Delete a remote branch\n",
    "$ git push origin --delete (branch name)"
   ]
  },
  {
   "cell_type": "raw",
   "id": "933de409-9aea-4302-9646-fde257a3a771",
   "metadata": {},
   "source": [
    "4-5. Update local repository to the newest commit\n",
    "$ git pull"
   ]
  },
  {
   "cell_type": "raw",
   "id": "a98856e8-c66c-4a23-8d37-c53a1100e5c5",
   "metadata": {},
   "source": [
    "4-6. Pull changes from remote repository\n",
    "$ git pull origin (branch name)"
   ]
  },
  {
   "cell_type": "raw",
   "id": "0f7c6c85-5380-44c4-af32-9a31a5c9820d",
   "metadata": {},
   "source": [
    "4-7. Add a remote repository\n",
    "$ git remote add origin (repository address)"
   ]
  },
  {
   "cell_type": "raw",
   "id": "70899fad-3372-4fb3-ad72-ea759cb293b1",
   "metadata": {},
   "source": [
    "4-8. Set a repository's origin branch to SSH\n",
    "$ git remote set-url origin"
   ]
  },
  {
   "cell_type": "markdown",
   "id": "87dc82d9-7463-4c80-951e-be8746b502e1",
   "metadata": {},
   "source": [
    "**5. Other Command Codes**"
   ]
  },
  {
   "cell_type": "raw",
   "id": "26c765a0-85fa-431c-a067-625b4bd0b199",
   "metadata": {},
   "source": [
    "5-1. Print working directory\n",
    "$ pwd"
   ]
  },
  {
   "cell_type": "raw",
   "id": "c9ce93ca-8a47-4223-af7b-37f1663de2a0",
   "metadata": {},
   "source": [
    "5-2. Change directory\n",
    "$ cd"
   ]
  },
  {
   "cell_type": "raw",
   "id": "586b580f-c68a-4b7c-99c6-8dfe47db8b37",
   "metadata": {},
   "source": [
    "5-3. List The Contents Of The Directory\n",
    "$ ls -a"
   ]
  },
  {
   "cell_type": "raw",
   "id": "ab821a7c-33f4-4ed2-8778-d91f542830bb",
   "metadata": {},
   "source": [
    "5-4. Make a directory\n",
    "$mkdir (directory name)"
   ]
  },
  {
   "cell_type": "raw",
   "id": "a089ada4-3494-43bc-8eb7-a82159bf9f89",
   "metadata": {},
   "source": [
    "5-5. Make a file\n",
    "$ touch (file name.format)"
   ]
  },
  {
   "cell_type": "raw",
   "id": "aedeff8c-b333-4751-8099-4b8c67f206dd",
   "metadata": {},
   "source": [
    "5-6. "
   ]
  }
 ],
 "metadata": {
  "kernelspec": {
   "display_name": "Python 3 (ipykernel)",
   "language": "python",
   "name": "python3"
  },
  "language_info": {
   "codemirror_mode": {
    "name": "ipython",
    "version": 3
   },
   "file_extension": ".py",
   "mimetype": "text/x-python",
   "name": "python",
   "nbconvert_exporter": "python",
   "pygments_lexer": "ipython3",
   "version": "3.12.2"
  }
 },
 "nbformat": 4,
 "nbformat_minor": 5
}
